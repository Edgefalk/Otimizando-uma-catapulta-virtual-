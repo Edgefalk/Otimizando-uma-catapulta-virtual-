{
  "cells": [
    {
      "cell_type": "markdown",
      "metadata": {
        "id": "PxfxO5QLsvPs"
      },
      "source": [
        "### Grupo"
      ]
    },
    {
      "cell_type": "markdown",
      "metadata": {
        "id": "HtaHztZZsvPv"
      },
      "source": [
        "Nome | RA\n",
        "--- | ---\n",
        "Edgard Ramos | RARA00320141\n",
        "Felipe Mrgado | RA00319594\n",
        "Paulo Furtado | RA00274417\n",
        "Gabriel Bento | RA00320082\n",
        "Melissa Assis | RA00320501\n",
        "Manoela Finotti | RA00319067"
      ]
    },
    {
      "cell_type": "markdown",
      "metadata": {
        "id": "CX32HeD2svPw"
      },
      "source": [
        "### Importando bibliotecas"
      ]
    },
    {
      "cell_type": "code",
      "execution_count": null,
      "metadata": {
        "id": "XPP7PtpwsvPw"
      },
      "outputs": [],
      "source": [
        "import numpy as np\n",
        "import pandas as pd\n",
        "import pyDOE2\n",
        "from pyDOE2 import fullfact\n",
        "from statsmodels.formula.api import ols\n",
        "import statsmodels.formula.api as smf\n",
        "import statsmodels.api as sm\n",
        "from scipy.optimize import minimize\n",
        "from scipy.stats import shapiro\n",
        "import matplotlib.pyplot as plt\n",
        "from sklearn.preprocessing import PolynomialFeatures\n",
        "import itertools"
      ]
    },
    {
      "cell_type": "markdown",
      "metadata": {
        "id": "JHXfH6eIsvPx"
      },
      "source": [
        "### Criando os experimentos"
      ]
    },
    {
      "cell_type": "code",
      "execution_count": null,
      "metadata": {
        "id": "lFrvyVJPsvPy",
        "outputId": "47a05142-fdc8-4c82-df63-098150271bd6"
      },
      "outputs": [
        {
          "name": "stdout",
          "output_type": "stream",
          "text": [
            "Experimento 1:\n",
            "Release Angle: 156.0\n",
            "Firing Angle: 90.0\n",
            "Cup Elevation: 211.0\n",
            "Pin Elevation: 100.0\n",
            "Bungee Elevation: 100.0\n",
            "\n",
            "Experimento 2:\n",
            "Release Angle: 176.0\n",
            "Firing Angle: 90.0\n",
            "Cup Elevation: 211.0\n",
            "Pin Elevation: 100.0\n",
            "Bungee Elevation: 100.0\n",
            "\n",
            "Experimento 3:\n",
            "Release Angle: 156.0\n",
            "Firing Angle: 140.0\n",
            "Cup Elevation: 211.0\n",
            "Pin Elevation: 100.0\n",
            "Bungee Elevation: 100.0\n",
            "\n",
            "Experimento 4:\n",
            "Release Angle: 176.0\n",
            "Firing Angle: 140.0\n",
            "Cup Elevation: 211.0\n",
            "Pin Elevation: 100.0\n",
            "Bungee Elevation: 100.0\n",
            "\n",
            "Experimento 5:\n",
            "Release Angle: 156.0\n",
            "Firing Angle: 90.0\n",
            "Cup Elevation: 290.0\n",
            "Pin Elevation: 100.0\n",
            "Bungee Elevation: 100.0\n",
            "\n",
            "Experimento 6:\n",
            "Release Angle: 176.0\n",
            "Firing Angle: 90.0\n",
            "Cup Elevation: 290.0\n",
            "Pin Elevation: 100.0\n",
            "Bungee Elevation: 100.0\n",
            "\n",
            "Experimento 7:\n",
            "Release Angle: 156.0\n",
            "Firing Angle: 140.0\n",
            "Cup Elevation: 290.0\n",
            "Pin Elevation: 100.0\n",
            "Bungee Elevation: 100.0\n",
            "\n",
            "Experimento 8:\n",
            "Release Angle: 176.0\n",
            "Firing Angle: 140.0\n",
            "Cup Elevation: 290.0\n",
            "Pin Elevation: 100.0\n",
            "Bungee Elevation: 100.0\n",
            "\n",
            "Experimento 9:\n",
            "Release Angle: 156.0\n",
            "Firing Angle: 90.0\n",
            "Cup Elevation: 211.0\n",
            "Pin Elevation: 200.0\n",
            "Bungee Elevation: 100.0\n",
            "\n",
            "Experimento 10:\n",
            "Release Angle: 176.0\n",
            "Firing Angle: 90.0\n",
            "Cup Elevation: 211.0\n",
            "Pin Elevation: 200.0\n",
            "Bungee Elevation: 100.0\n",
            "\n",
            "Experimento 11:\n",
            "Release Angle: 156.0\n",
            "Firing Angle: 140.0\n",
            "Cup Elevation: 211.0\n",
            "Pin Elevation: 200.0\n",
            "Bungee Elevation: 100.0\n",
            "\n",
            "Experimento 12:\n",
            "Release Angle: 176.0\n",
            "Firing Angle: 140.0\n",
            "Cup Elevation: 211.0\n",
            "Pin Elevation: 200.0\n",
            "Bungee Elevation: 100.0\n",
            "\n",
            "Experimento 13:\n",
            "Release Angle: 156.0\n",
            "Firing Angle: 90.0\n",
            "Cup Elevation: 290.0\n",
            "Pin Elevation: 200.0\n",
            "Bungee Elevation: 100.0\n",
            "\n",
            "Experimento 14:\n",
            "Release Angle: 176.0\n",
            "Firing Angle: 90.0\n",
            "Cup Elevation: 290.0\n",
            "Pin Elevation: 200.0\n",
            "Bungee Elevation: 100.0\n",
            "\n",
            "Experimento 15:\n",
            "Release Angle: 156.0\n",
            "Firing Angle: 140.0\n",
            "Cup Elevation: 290.0\n",
            "Pin Elevation: 200.0\n",
            "Bungee Elevation: 100.0\n",
            "\n",
            "Experimento 16:\n",
            "Release Angle: 176.0\n",
            "Firing Angle: 140.0\n",
            "Cup Elevation: 290.0\n",
            "Pin Elevation: 200.0\n",
            "Bungee Elevation: 100.0\n",
            "\n",
            "Experimento 17:\n",
            "Release Angle: 156.0\n",
            "Firing Angle: 90.0\n",
            "Cup Elevation: 211.0\n",
            "Pin Elevation: 100.0\n",
            "Bungee Elevation: 200.0\n",
            "\n",
            "Experimento 18:\n",
            "Release Angle: 176.0\n",
            "Firing Angle: 90.0\n",
            "Cup Elevation: 211.0\n",
            "Pin Elevation: 100.0\n",
            "Bungee Elevation: 200.0\n",
            "\n",
            "Experimento 19:\n",
            "Release Angle: 156.0\n",
            "Firing Angle: 140.0\n",
            "Cup Elevation: 211.0\n",
            "Pin Elevation: 100.0\n",
            "Bungee Elevation: 200.0\n",
            "\n",
            "Experimento 20:\n",
            "Release Angle: 176.0\n",
            "Firing Angle: 140.0\n",
            "Cup Elevation: 211.0\n",
            "Pin Elevation: 100.0\n",
            "Bungee Elevation: 200.0\n",
            "\n",
            "Experimento 21:\n",
            "Release Angle: 156.0\n",
            "Firing Angle: 90.0\n",
            "Cup Elevation: 290.0\n",
            "Pin Elevation: 100.0\n",
            "Bungee Elevation: 200.0\n",
            "\n",
            "Experimento 22:\n",
            "Release Angle: 176.0\n",
            "Firing Angle: 90.0\n",
            "Cup Elevation: 290.0\n",
            "Pin Elevation: 100.0\n",
            "Bungee Elevation: 200.0\n",
            "\n",
            "Experimento 23:\n",
            "Release Angle: 156.0\n",
            "Firing Angle: 140.0\n",
            "Cup Elevation: 290.0\n",
            "Pin Elevation: 100.0\n",
            "Bungee Elevation: 200.0\n",
            "\n",
            "Experimento 24:\n",
            "Release Angle: 176.0\n",
            "Firing Angle: 140.0\n",
            "Cup Elevation: 290.0\n",
            "Pin Elevation: 100.0\n",
            "Bungee Elevation: 200.0\n",
            "\n",
            "Experimento 25:\n",
            "Release Angle: 156.0\n",
            "Firing Angle: 90.0\n",
            "Cup Elevation: 211.0\n",
            "Pin Elevation: 200.0\n",
            "Bungee Elevation: 200.0\n",
            "\n",
            "Experimento 26:\n",
            "Release Angle: 176.0\n",
            "Firing Angle: 90.0\n",
            "Cup Elevation: 211.0\n",
            "Pin Elevation: 200.0\n",
            "Bungee Elevation: 200.0\n",
            "\n",
            "Experimento 27:\n",
            "Release Angle: 156.0\n",
            "Firing Angle: 140.0\n",
            "Cup Elevation: 211.0\n",
            "Pin Elevation: 200.0\n",
            "Bungee Elevation: 200.0\n",
            "\n",
            "Experimento 28:\n",
            "Release Angle: 176.0\n",
            "Firing Angle: 140.0\n",
            "Cup Elevation: 211.0\n",
            "Pin Elevation: 200.0\n",
            "Bungee Elevation: 200.0\n",
            "\n",
            "Experimento 29:\n",
            "Release Angle: 156.0\n",
            "Firing Angle: 90.0\n",
            "Cup Elevation: 290.0\n",
            "Pin Elevation: 200.0\n",
            "Bungee Elevation: 200.0\n",
            "\n",
            "Experimento 30:\n",
            "Release Angle: 176.0\n",
            "Firing Angle: 90.0\n",
            "Cup Elevation: 290.0\n",
            "Pin Elevation: 200.0\n",
            "Bungee Elevation: 200.0\n",
            "\n",
            "Experimento 31:\n",
            "Release Angle: 156.0\n",
            "Firing Angle: 140.0\n",
            "Cup Elevation: 290.0\n",
            "Pin Elevation: 200.0\n",
            "Bungee Elevation: 200.0\n",
            "\n",
            "Experimento 32:\n",
            "Release Angle: 176.0\n",
            "Firing Angle: 140.0\n",
            "Cup Elevation: 290.0\n",
            "Pin Elevation: 200.0\n",
            "Bungee Elevation: 200.0\n",
            "\n"
          ]
        }
      ],
      "source": [
        "# Definindo os valores máximos e mínimos reais dos fatores\n",
        "factors_ranges = [(156, 176), (90, 140), (211, 290), (100, 200), (100, 200)]\n",
        "\n",
        "# Definindo os níveis\n",
        "levels = [2] * len(factors_ranges)\n",
        "\n",
        "# Gerando o fatorial completo\n",
        "full_factorial_design = pyDOE2.fullfact(levels)\n",
        "\n",
        "# Convertendo os valores do fatorial para os valores máximos e mínimos dos fatores\n",
        "factor_values = [factor_range[0] + (factor_range[1] - factor_range[0]) * full_factorial_design[:, i]\n",
        "                 for i, factor_range in enumerate(factors_ranges)]\n",
        "\n",
        "# Imprimindo os experimentos\n",
        "for i, experiment in enumerate(full_factorial_design):\n",
        "    print(f\"Experimento {i+1}:\")\n",
        "    for factor, factor_value in zip(['Release Angle', 'Firing Angle', 'Cup Elevation', 'Pin Elevation', 'Bungee Elevation'], factor_values):\n",
        "        print(f\"{factor}: {factor_value[i]}\")\n",
        "    print()"
      ]
    },
    {
      "cell_type": "markdown",
      "metadata": {
        "id": "2gOOK7bpsvPz"
      },
      "source": [
        "### Analisando os resultados"
      ]
    },
    {
      "cell_type": "code",
      "execution_count": null,
      "metadata": {
        "id": "4PnbMVtmsvPz",
        "outputId": "9d4b1ca2-b887-4bbf-b773-fd782c3eb3f3"
      },
      "outputs": [
        {
          "name": "stdout",
          "output_type": "stream",
          "text": [
            "      A    B    C    D    E  response\n",
            "0   156   90  211  100  100     79.43\n",
            "1   156   90  211  100  200    112.76\n",
            "2   156   90  211  200  100    111.24\n",
            "3   156   90  211  200  200    149.76\n",
            "4   156   90  290  100  100    117.90\n",
            "5   156   90  290  100  200    163.24\n",
            "6   156   90  290  200  100    160.17\n",
            "7   156   90  290  200  200    221.09\n",
            "8   156  140  211  100  100      6.30\n",
            "9   156  140  211  100  200     37.01\n",
            "10  156  140  211  200  100     42.76\n",
            "11  156  140  211  200  200     81.36\n",
            "12  156  140  290  100  100     26.02\n",
            "13  156  140  290  100  200     74.14\n",
            "14  156  140  290  200  100     70.76\n",
            "15  156  140  290  200  200    148.63\n",
            "16  176   90  211  100  100     92.29\n",
            "17  176   90  211  100  200    126.25\n",
            "18  176   90  211  200  100    127.69\n",
            "19  176   90  211  200  200    176.64\n",
            "20  176   90  290  100  100    135.46\n",
            "21  176   90  290  100  200    192.05\n",
            "22  176   90  290  200  100    187.89\n",
            "23  176   90  290  200  200    258.18\n",
            "24  176  140  211  100  100     45.21\n",
            "25  176  140  211  100  200     97.61\n",
            "26  176  140  211  200  100    112.09\n",
            "27  176  140  211  200  200    215.05\n",
            "28  176  140  290  100  100     84.59\n",
            "29  176  140  290  100  200     70.21\n",
            "30  176  140  290  200  100    188.35\n",
            "31  176  140  290  200  200    331.60\n",
            "                            OLS Regression Results                            \n",
            "==============================================================================\n",
            "Dep. Variable:               response   R-squared:                       0.951\n",
            "Model:                            OLS   Adj. R-squared:                  0.905\n",
            "Method:                 Least Squares   F-statistic:                     20.76\n",
            "Date:                Thu, 29 Jun 2023   Prob (F-statistic):           1.08e-07\n",
            "Time:                        10:58:57   Log-Likelihood:                -133.20\n",
            "No. Observations:                  32   AIC:                             298.4\n",
            "Df Residuals:                      16   BIC:                             321.8\n",
            "Df Model:                          15                                         \n",
            "Covariance Type:            nonrobust                                         \n",
            "==============================================================================\n",
            "                 coef    std err          t      P>|t|      [0.025      0.975]\n",
            "------------------------------------------------------------------------------\n",
            "Intercept   1339.9244    593.125      2.259      0.038      82.556    2597.292\n",
            "A             -8.8403      3.332     -2.653      0.017     -15.904      -1.776\n",
            "B             -7.7342      3.201     -2.416      0.028     -14.521      -0.948\n",
            "C              0.6838      1.858      0.368      0.718      -3.254       4.622\n",
            "D             -2.8823      1.863     -1.547      0.141      -6.831       1.067\n",
            "A:B            0.0512      0.016      3.231      0.005       0.018       0.085\n",
            "A:C            0.0036      0.010      0.362      0.722      -0.017       0.025\n",
            "A:D            0.0176      0.008      2.166      0.046       0.000       0.035\n",
            "A:E            0.0071      0.005      1.453      0.166      -0.003       0.017\n",
            "B:C           -0.0088      0.004     -1.978      0.065      -0.018       0.001\n",
            "B:D            0.0001      0.005      0.028      0.978      -0.010       0.010\n",
            "B:E           -0.0063      0.004     -1.524      0.147      -0.015       0.002\n",
            "C:D            0.0002      0.003      0.089      0.930      -0.005       0.006\n",
            "C:E           -0.0020      0.002     -0.925      0.369      -0.006       0.003\n",
            "D:E           -0.0032      0.003     -1.102      0.287      -0.009       0.003\n",
            "A:B:C:D:E   1.487e-09    5.6e-10      2.656      0.017       3e-10    2.67e-09\n",
            "==============================================================================\n",
            "Omnibus:                       13.001   Durbin-Watson:                   2.404\n",
            "Prob(Omnibus):                  0.002   Jarque-Bera (JB):               14.906\n",
            "Skew:                          -1.089   Prob(JB):                     0.000580\n",
            "Kurtosis:                       5.536   Cond. No.                     1.89e+13\n",
            "==============================================================================\n",
            "\n",
            "Notes:\n",
            "[1] Standard Errors assume that the covariance matrix of the errors is correctly specified.\n",
            "[2] The condition number is large, 1.89e+13. This might indicate that there are\n",
            "strong multicollinearity or other numerical problems.\n"
          ]
        }
      ],
      "source": [
        "#Criando o dataframe com as variáveis\n",
        "design = pd.DataFrame(pyDOE2.fullfact([2, 2, 2, 2, 2]),\n",
        "                      columns=['A', 'B', 'C', 'D', 'E'])\n",
        "\n",
        "#Adicionando os valores dos experimentos ao dataframe\n",
        "design['A'] = [156, 176, 156, 176, 156, 176, 156, 176, 156, 176, 156, 176, 156, 176, 156, 176, 156, 176, 156, 176, 156, 176, 156, 176, 156, 176, 156, 176, 156, 176, 156, 176]\n",
        "design['B'] = [90, 90, 140, 140, 90, 90, 140, 140, 90, 90, 140, 140, 90, 90, 140, 140, 90, 90, 140, 140, 90, 90, 140, 140, 90, 90, 140, 140, 90, 90, 140, 140]\n",
        "design['C'] = [211, 211, 211, 211, 290, 290, 290, 290, 211, 211, 211, 211, 290, 290, 290, 290, 211, 211, 211, 211, 290, 290, 290, 290, 211, 211, 211, 211, 290, 290, 290, 290]\n",
        "design['D'] = [100, 100, 100, 100, 100, 100, 100, 100, 200, 200, 200, 200, 200, 200, 200, 200, 100, 100, 100, 100, 100, 100, 100, 100, 200, 200, 200, 200, 200, 200, 200, 200]\n",
        "design['E'] = [100, 100, 100, 100, 100, 100, 100, 100, 100, 100, 100, 100, 100, 100, 100, 100, 200, 200, 200, 200, 200, 200, 200, 200, 200, 200, 200, 200, 200, 200, 200, 200]\n",
        "\n",
        "\n",
        "# Adicionando as respostas dos experimentos\n",
        "design['response'] = [79.43, 92.29, 6.30, 45.21, 117.90, 135.46, 26.02, 84.59, 111.24, 127.69, 42.76, 112.09, 160.17, 187.89, 70.76, 188.35, 112.76, 126.25, 37.01, 97.61, 163.24, 192.05, 74.14, 70.21, 149.76, 176.64, 81.36, 215.05, 221.09, 258.18, 148.63, 331.60]\n",
        "\n",
        "#Média de cada configuração dos experimentos\n",
        "print(design.groupby(['A', 'B', 'C', 'D', 'E']).response.mean().reset_index())\n",
        "\n",
        "#Ajustando o modelo\n",
        "model = smf.ols('response ~ A + B + C + D + A:B + A:C + A:D + A:E + B:C + B:D + B:E + C:D + C:E + D:E + A:B:C:D:E', data=design).fit()\n",
        "print(model.summary())"
      ]
    },
    {
      "cell_type": "code",
      "execution_count": null,
      "metadata": {
        "id": "8W4wx-4rsvP0",
        "outputId": "c453c445-27e3-4601-a4f8-57a5b240e45d"
      },
      "outputs": [
        {
          "name": "stdout",
          "output_type": "stream",
          "text": [
            "                            OLS Regression Results                            \n",
            "==============================================================================\n",
            "Dep. Variable:               response   R-squared:                       0.898\n",
            "Model:                            OLS   Adj. R-squared:                  0.879\n",
            "Method:                 Least Squares   F-statistic:                     45.92\n",
            "Date:                Thu, 29 Jun 2023   Prob (F-statistic):           4.36e-12\n",
            "Time:                        10:58:57   Log-Likelihood:                -144.92\n",
            "No. Observations:                  32   AIC:                             301.8\n",
            "Df Residuals:                      26   BIC:                             310.6\n",
            "Df Model:                           5                                         \n",
            "Covariance Type:            nonrobust                                         \n",
            "==============================================================================\n",
            "                 coef    std err          t      P>|t|      [0.025      0.975]\n",
            "------------------------------------------------------------------------------\n",
            "Intercept    874.3915    345.437      2.531      0.018     164.335    1584.448\n",
            "A             -4.2344      2.070     -2.046      0.051      -8.489       0.020\n",
            "B            -10.8705      2.925     -3.717      0.001     -16.882      -4.859\n",
            "C              0.2677      0.117      2.295      0.030       0.028       0.507\n",
            "A:B            0.0546      0.018      3.106      0.005       0.018       0.091\n",
            "A:B:C:D:E   8.812e-10   8.11e-11     10.867      0.000    7.15e-10    1.05e-09\n",
            "==============================================================================\n",
            "Omnibus:                       22.971   Durbin-Watson:                   1.982\n",
            "Prob(Omnibus):                  0.000   Jarque-Bera (JB):               49.480\n",
            "Skew:                          -1.509   Prob(JB):                     1.80e-11\n",
            "Kurtosis:                       8.291   Cond. No.                     9.75e+12\n",
            "==============================================================================\n",
            "\n",
            "Notes:\n",
            "[1] Standard Errors assume that the covariance matrix of the errors is correctly specified.\n",
            "[2] The condition number is large, 9.75e+12. This might indicate that there are\n",
            "strong multicollinearity or other numerical problems.\n",
            "Intercept    8.743915e+02\n",
            "A           -4.234412e+00\n",
            "B           -1.087049e+01\n",
            "C            2.677163e-01\n",
            "A:B          5.464192e-02\n",
            "A:B:C:D:E    8.812289e-10\n",
            "dtype: float64\n",
            "[ 85.24568333 102.25980464 -17.56855638  55.94687789 116.16951135\n",
            " 134.43674008  18.78540382  94.2501163  111.35155928 131.71258776\n",
            "  23.04058399 101.7623183  152.04962522 174.91686854  74.59891427\n",
            " 157.21920502 111.35155928 131.71258776  23.04058399 101.7623183\n",
            " 152.04962522 174.91686854  74.59891427 157.21920502 163.56331119\n",
            " 190.61815401 104.25886472 193.39319913 223.80985295 255.87712547\n",
            " 186.22593519 283.15738246]\n",
            "                      0             1\n",
            "Intercept  1.643350e+02  1.584448e+03\n",
            "A         -8.488821e+00  1.999653e-02\n",
            "B         -1.688235e+01 -4.858627e+00\n",
            "C          2.797594e-02  5.074567e-01\n",
            "A:B        1.847921e-02  9.080463e-02\n",
            "A:B:C:D:E  7.145468e-10  1.047911e-09\n"
          ]
        }
      ],
      "source": [
        "# Simplificando o modelo: excluindo efeitos não significativos\n",
        "model2 = smf.ols('response ~ A + B + C + A:B + A:B:C:D:E', data=design).fit()\n",
        "print(model2.summary())\n",
        "\n",
        "# Coeficientes do modelo\n",
        "print(model2.params)\n",
        "\n",
        "#Estimativas para todas as condições experimentais (incluindo as réplicas)\n",
        "print(model2.predict())\n",
        "\n",
        "#Calculo do intervalo de confiança para cada fator\n",
        "print(model2.conf_int())"
      ]
    },
    {
      "cell_type": "markdown",
      "metadata": {
        "id": "-qWOJeVasvP0"
      },
      "source": [
        "89% da variabilidade da variável de resposta é explicada pelas variáveis independentes do modelo"
      ]
    },
    {
      "cell_type": "code",
      "execution_count": null,
      "metadata": {
        "id": "UC6Sv3gRsvP1",
        "outputId": "1d4db9c9-4251-4299-ffd4-771cc01ca1ae"
      },
      "outputs": [
        {
          "data": {
            "image/png": "[encoded data removed]",
            "text/plain": [
              "<Figure size 1080x360 with 5 Axes>"
            ]
          },
          "metadata": {
            "needs_background": "light"
          },
          "output_type": "display_data"
        },
        {
          "name": "stdout",
          "output_type": "stream",
          "text": [
            "ShapiroResult(statistic=0.8646990060806274, pvalue=0.0008782735094428062)\n"
          ]
        }
      ],
      "source": [
        "#Visualizando, graficamente, os principais efeitos\n",
        "fig, axes = plt.subplots(1, 5, figsize=(15, 5))\n",
        "\n",
        "for i, factor in enumerate(['A', 'B', 'C', 'D', 'E']):\n",
        "    design.groupby(factor).response.mean().plot(ax=axes[i], marker='o')\n",
        "    axes[i].axhline(design.response.mean(), color='red', linestyle='--')\n",
        "    axes[i].set_title('Fator {}'.format(factor))\n",
        "\n",
        "plt.tight_layout()\n",
        "plt.show()\n",
        "\n",
        "#Verificando a normalidade dos resíduos com um teste de normalidade\n",
        "print(shapiro(model2.resid))"
      ]
    },
    {
      "cell_type": "markdown",
      "metadata": {
        "id": "4jlyRuR6svP1"
      },
      "source": [
        "O gráfico mostra a média da variável de resposta em relação a cada fator\n",
        "\n",
        "Os marcadores 'o' indicam a média da variável de resposta para cada nível do fator correspondente\n",
        "\n",
        "A linha vermelha indica a média geral da variável de resposta em todos os níveis do fator\n",
        "\n",
        "p < 0,005 --> indicando que os resíduos não seguem uma distribuição normal, sendo, assim, a verificação útil para avaliar a suposição de normalidade dos resíduos do modelo"
      ]
    },
    {
      "cell_type": "code",
      "execution_count": null,
      "metadata": {
        "id": "NQvL4AMisvP1",
        "outputId": "655664a2-7ad0-4821-e95a-6e33643d974b"
      },
      "outputs": [
        {
          "data": {
            "text/plain": [
              "<matplotlib.collections.PathCollection at 0x1f86a5b6140>"
            ]
          },
          "execution_count": 10,
          "metadata": {},
          "output_type": "execute_result"
        },
        {
          "data": {
            "image/png": "[encoded data removed]",
            "text/plain": [
              "<Figure size 432x288 with 1 Axes>"
            ]
          },
          "metadata": {
            "needs_background": "light"
          },
          "output_type": "display_data"
        }
      ],
      "source": [
        "#Gráfico de dispersão dos resíduos (diferenças entre os valores observados e os valores previstos pelo modelo) do modelo\n",
        "plt.scatter(np.linspace(-1,1,len(model2.resid)), model2.resid)"
      ]
    },
    {
      "cell_type": "markdown",
      "metadata": {
        "id": "uBbVgAF0svP1"
      },
      "source": [
        "Eixo x -> ordem dos resíduos em uma escala linear\n",
        "\n",
        "Eixo y -> valores dos resíduos\n",
        "\n",
        "Como estão distribuidos aleatoriamente em torno de 0, indica uma boa relação entre as variáveis"
      ]
    },
    {
      "cell_type": "code",
      "execution_count": null,
      "metadata": {
        "id": "tQgtym7zsvP1"
      },
      "outputs": [],
      "source": [
        "#Criando uma função para receber dois argumentos, retornando uma lista de nomes de características polinomiais geradas a partir das características de entrada\n",
        "def get_poly_feature_names(input_features, poly):\n",
        "    num_input_features = len(input_features)\n",
        "    degree = poly.degree\n",
        "    interaction_only = poly.interaction_only\n",
        "    include_bias = poly.include_bias\n",
        "\n",
        "    if include_bias:\n",
        "        feature_names = ['1']\n",
        "    else:\n",
        "        feature_names = []\n",
        "\n",
        "    for degree in range(1, degree + 1):\n",
        "        for items in itertools.combinations_with_replacement(input_features, degree):\n",
        "            if not interaction_only or len(set(items)) != 1:\n",
        "                feature_names.append(' * '.join(items))\n",
        "\n",
        "\n",
        "    return feature_names"
      ]
    },
    {
      "cell_type": "code",
      "execution_count": null,
      "metadata": {
        "id": "s41mENRhsvP2",
        "outputId": "b23602c4-5ab9-4daf-9fa9-289d61f9ee02"
      },
      "outputs": [
        {
          "name": "stdout",
          "output_type": "stream",
          "text": [
            "Coeficientes: \n",
            " const    2113.322230\n",
            "x1        -10.839365\n",
            "x2        -11.808383\n",
            "x3         -1.145764\n",
            "x4         -6.049414\n",
            "x5         -1.956619\n",
            "x6          0.059609\n",
            "x7          0.007450\n",
            "x8          0.024053\n",
            "x9          0.007538\n",
            "x10        -0.003260\n",
            "x11         0.009406\n",
            "x12         0.002291\n",
            "x13         0.004483\n",
            "x14         0.001718\n",
            "x15         0.003691\n",
            "dtype: float64\n",
            "\n",
            "Equação Polinomial:\n",
            "2113.322 * const + -10.839 * 1 + -11.808 * A * B + -1.146 * A * C + -6.049 * A * D + -1.957 * A * E + 0.060 * B * C + 0.007 * B * D + 0.024 * B * E + 0.008 * C * D + -0.003 * C * E + 0.009 * D * E\n"
          ]
        },
        {
          "data": {
            "image/png": "[encoded data removed]",
            "text/plain": [
              "<Figure size 720x360 with 2 Axes>"
            ]
          },
          "metadata": {
            "needs_background": "light"
          },
          "output_type": "display_data"
        },
        {
          "name": "stdout",
          "output_type": "stream",
          "text": [
            "Coeficiente de Determinação (R^2): 0.9351579039002307\n"
          ]
        }
      ],
      "source": [
        "#Definindo variáveis independentes (X) e variável dependente (Y)\n",
        "X = design[['A', 'B', 'C', 'D', 'E']]\n",
        "Y = design['response']\n",
        "\n",
        "#Adicionando termos de interação\n",
        "poly = PolynomialFeatures(2, interaction_only=True, include_bias=True)\n",
        "X_poly = poly.fit_transform(X)\n",
        "\n",
        "#Ajustando o modelo\n",
        "model = sm.OLS(Y, X_poly)\n",
        "results = model.fit()\n",
        "\n",
        "#Imprimindo os coeficientes\n",
        "print('Coeficientes: \\n', results.params)\n",
        "\n",
        "#Construindo a equação polinomial\n",
        "poly_feature_names = get_poly_feature_names(X.columns, poly)\n",
        "\n",
        "equation_terms = [f'{coef:.3f} * {feature}' for coef, feature in zip(results.params, ['const'] + poly_feature_names) if np.abs(coef) > 1e-10]\n",
        "equation = ' + '.join(equation_terms)\n",
        "\n",
        "#Imprimindo a equação polinomial\n",
        "print('\\nEquação Polinomial:')\n",
        "print(equation)\n",
        "\n",
        "#Realizando previsões\n",
        "Y_pred = results.predict(X_poly)\n",
        "\n",
        "#Gráfico de dispersão entre os valores reais (Y) e os valores previstos (Y_pred)\n",
        "plt.figure(figsize=(10,5))\n",
        "plt.subplot(1, 2, 1)\n",
        "plt.scatter(Y, Y_pred)\n",
        "plt.xlabel('Valores Reais')\n",
        "plt.ylabel('Valores Previstos')\n",
        "plt.title('Valores Reais vs. Valores Previstos')\n",
        "\n",
        "#Gráfico de barras dos coeficientes\n",
        "plt.subplot(1, 2, 2)\n",
        "plt.bar(range(len(results.params)), results.params)\n",
        "plt.xlabel('Índice do Coeficiente')\n",
        "plt.ylabel('Valor do Coeficiente')\n",
        "plt.title('Coeficientes')\n",
        "\n",
        "plt.tight_layout()\n",
        "plt.show()\n",
        "\n",
        "#Imprimindo o coeficiente de determinação (R^2)\n",
        "print('Coeficiente de Determinação (R^2):', results.rsquared)\n"
      ]
    },
    {
      "cell_type": "markdown",
      "metadata": {
        "id": "q_vUDR_psvP2"
      },
      "source": [
        "Os coeficientes representam os pesos atribuídos a cada termo polinomial na equação polinomial ajustada\n",
        "\n",
        "No primeiro gráfico, como os valores apresentam quase que uma linha perfeita na diagonal, a previsão está boa\n",
        "\n",
        "**Segundo gráfico???**\n",
        "\n",
        "Como R^2 = 0.93, ou seja, está próximo de 1, indica um bom ajuste do modelo aos dados"
      ]
    },
    {
      "cell_type": "markdown",
      "metadata": {
        "id": "d1ZWOSG4svP2"
      },
      "source": [
        "### Otimizando"
      ]
    },
    {
      "cell_type": "code",
      "execution_count": null,
      "metadata": {
        "id": "Nb2XAbi4svP2",
        "outputId": "bee75193-bb0f-49a5-e61f-0a6379d63d42"
      },
      "outputs": [
        {
          "name": "stdout",
          "output_type": "stream",
          "text": [
            "Optimized Factor Values:\n",
            "Release Angle: 156.53887617230578\n",
            "Firing Angle: 91.4692335476256\n",
            "Cup Elevation: 211.0000150808769\n",
            "Pin Elevation: 100.09826940583108\n",
            "Bungee Elevation: 100.00001932990602\n",
            "Predicted Distance: 100.00000000110936\n"
          ]
        }
      ],
      "source": [
        "#Escolhendo a distância desejada\n",
        "desired_distance = 100\n",
        "\n",
        "#Definindo a função objetivo para minimizar a diferença entre a distância prevista e a distância desejada\n",
        "def objective_function(factor_values):\n",
        "    A, B, C, D, E = factor_values\n",
        "    #Calculando a distância prevista usando o modelo de regressão polinomial\n",
        "    distance = results.predict(poly.fit_transform([[A, B, C, D, E]]))\n",
        "    return np.abs(distance - desired_distance)\n",
        "\n",
        "#Definindo a estimativa inciial para os fatores\n",
        "initial_guess = [156, 90, 211, 100, 100]\n",
        "\n",
        "#Limites de cada fator\n",
        "bounds = [(156, 176), (90, 140), (211, 290), (100, 200), (100, 200)]\n",
        "\n",
        "#Otimizando para encontrar a melhor configuração da catapulta\n",
        "result = minimize(objective_function, initial_guess, bounds=bounds)\n",
        "\n",
        "#Valores dos fatores otimizados\n",
        "optimized_factors = result.x\n",
        "\n",
        "#Imprimindo os valores otimizados dos fatores\n",
        "print(\"Optimized Factor Values:\")\n",
        "print(\"Release Angle:\", optimized_factors[0])\n",
        "print(\"Firing Angle:\", optimized_factors[1])\n",
        "print(\"Cup Elevation:\", optimized_factors[2])\n",
        "print(\"Pin Elevation:\", optimized_factors[3])\n",
        "print(\"Bungee Elevation:\", optimized_factors[4])\n",
        "\n",
        "#Distância prevista para a configuração otimizada\n",
        "optimized_distance = results.predict(poly.fit_transform([optimized_factors]))\n",
        "print(\"Predicted Distance:\", optimized_distance[0])"
      ]
    }
  ],
  "metadata": {
    "kernelspec": {
      "display_name": "Python 3",
      "language": "python",
      "name": "python3"
    },
    "language_info": {
      "codemirror_mode": {
        "name": "ipython",
        "version": 3
      },
      "file_extension": ".py",
      "mimetype": "text/x-python",
      "name": "python",
      "nbconvert_exporter": "python",
      "pygments_lexer": "ipython3",
      "version": "3.10.11"
    },
    "orig_nbformat": 4,
    "colab": {
      "provenance": []
    }
  },
  "nbformat": 4,
  "nbformat_minor": 0
}